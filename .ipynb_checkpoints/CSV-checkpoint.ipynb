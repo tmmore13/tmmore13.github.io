{
 "cells": [
  {
   "cell_type": "code",
   "execution_count": 1,
   "id": "9242d782-4338-49ad-bedf-e8a3400bba92",
   "metadata": {},
   "outputs": [
    {
     "name": "stdout",
     "output_type": "stream",
     "text": [
      "Data has been successfully saved to plot_data.csv\n"
     ]
    }
   ],
   "source": [
    "import pandas as pd\n",
    "import numpy as np\n",
    "\n",
    "# --- 1. Create the Data (same as your script) ---\n",
    "# Data for the line plot (200 points)\n",
    "x_line = np.linspace(0, 2 * np.pi, 200)\n",
    "y_line = np.sin(x_line).round(4) # Rounded for cleaner output\n",
    "\n",
    "# Data for the scatter plot (25 points)\n",
    "x_scatter = np.linspace(0, 2 * np.pi, 25)\n",
    "y_scatter = np.cos(x_scatter).round(4) # Rounded for cleaner output\n",
    "\n",
    "# --- 2. Create two separate DataFrames ---\n",
    "# One for each dataset\n",
    "df_line = pd.DataFrame({'x_sin': x_line, 'y_sin': y_line})\n",
    "df_scatter = pd.DataFrame({'x_cos': x_scatter, 'y_cos': y_scatter})\n",
    "\n",
    "# --- 3. Combine the DataFrames side-by-side ---\n",
    "# pandas will automatically fill the shorter columns with empty values (NaN)\n",
    "combined_df = pd.concat([df_line, df_scatter], axis=1)\n",
    "\n",
    "# --- 4. Save the combined data to a CSV file ---\n",
    "combined_df.to_csv('plot_data.csv', index=False)\n",
    "\n",
    "print(\"Data has been successfully saved to plot_data.csv\")"
   ]
  },
  {
   "cell_type": "code",
   "execution_count": null,
   "id": "82de5a72-9f96-4c30-bfd2-2be8263ab0b7",
   "metadata": {},
   "outputs": [],
   "source": []
  }
 ],
 "metadata": {
  "kernelspec": {
   "display_name": "Python 3 (ipykernel)",
   "language": "python",
   "name": "python3"
  },
  "language_info": {
   "codemirror_mode": {
    "name": "ipython",
    "version": 3
   },
   "file_extension": ".py",
   "mimetype": "text/x-python",
   "name": "python",
   "nbconvert_exporter": "python",
   "pygments_lexer": "ipython3",
   "version": "3.9.9"
  }
 },
 "nbformat": 4,
 "nbformat_minor": 5
}
